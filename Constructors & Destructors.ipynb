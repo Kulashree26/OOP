{
 "cells": [
  {
   "cell_type": "code",
   "execution_count": 4,
   "id": "b3b4b94c",
   "metadata": {},
   "outputs": [
    {
     "name": "stdout",
     "output_type": "stream",
     "text": [
      "enter_id:1\n",
      "enter_name:Kulashree\n",
      "enter_branch:science\n",
      "enter_perc:91\n",
      "stud_id: 1 stud_name: Kulashree stud_branch: science stud_percentage: 91\n",
      "enter_id:2\n",
      "enter_name:Pallavi\n",
      "enter_branch:science\n",
      "enter_perc:85\n",
      "Destructor called\n",
      "stud_id: 2 stud_name: Pallavi stud_branch: science stud_percentage: 85\n",
      "enter_id:3\n",
      "enter_name:Rahul\n",
      "enter_branch:commerce\n",
      "enter_perc:82\n",
      "Destructor called\n",
      "stud_id: 3 stud_name: Rahul stud_branch: commerce stud_percentage: 82\n",
      "enter_id:4\n",
      "enter_name:Mayuri\n",
      "enter_branch:commerce\n",
      "enter_perc:75\n",
      "Destructor called\n",
      "stud_id: 4 stud_name: Mayuri stud_branch: commerce stud_percentage: 75\n",
      "enter_id:5\n",
      "enter_name:Divya\n",
      "enter_branch:Arts\n",
      "enter_perc:86\n",
      "Destructor called\n",
      "stud_id: 5 stud_name: Divya stud_branch: Arts stud_percentage: 86\n",
      "Destructor called\n"
     ]
    }
   ],
   "source": [
    "class Students:\n",
    "    def __init__(self):\n",
    "        self.stud_id = int(input('enter_id:'))\n",
    "        self.stud_name = input('enter_name:')\n",
    "        self.stud_branch = input('enter_branch:')\n",
    "        self.stud_perc = int(input('enter_perc:'))\n",
    " \n",
    "    def display(self):\n",
    "        print('stud_id:', self.stud_id, 'stud_name:', self.stud_name, 'stud_branch:', self.stud_branch, \n",
    "              'stud_percentage:', self.stud_perc)\n",
    "        \n",
    "    def __del__(self):\n",
    "        print('Destructor called')\n",
    "\n",
    "\n",
    "def main():\n",
    "    for i in range(5):\n",
    "        obj = Students()\n",
    "        obj.display()\n",
    "\n",
    "        \n",
    "if __name__=='__main__':\n",
    "    main()\n",
    "\n"
   ]
  },
  {
   "cell_type": "code",
   "execution_count": null,
   "id": "5abe4dfd",
   "metadata": {},
   "outputs": [],
   "source": [
    "\n",
    "\n",
    "\n",
    "\n",
    "\n",
    "\n"
   ]
  },
  {
   "cell_type": "code",
   "execution_count": null,
   "id": "897fb33e",
   "metadata": {},
   "outputs": [],
   "source": []
  }
 ],
 "metadata": {
  "kernelspec": {
   "display_name": "Python 3",
   "language": "python",
   "name": "python3"
  },
  "language_info": {
   "codemirror_mode": {
    "name": "ipython",
    "version": 3
   },
   "file_extension": ".py",
   "mimetype": "text/x-python",
   "name": "python",
   "nbconvert_exporter": "python",
   "pygments_lexer": "ipython3",
   "version": "3.8.8"
  }
 },
 "nbformat": 4,
 "nbformat_minor": 5
}
