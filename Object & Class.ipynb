{
 "cells": [
  {
   "cell_type": "code",
   "execution_count": 52,
   "id": "1a97256d",
   "metadata": {},
   "outputs": [
    {
     "name": "stdout",
     "output_type": "stream",
     "text": [
      "Enter number:13\n",
      "number is odd\n",
      "enter number:15\n",
      "enter number:93\n",
      "enter number:37\n",
      "93\n",
      "[211, 223, 227, 229, 233, 239, 241, 251, 257, 263, 269, 271, 277, 281, 283, 293, 307, 311, 313, 317, 331, 337, 347, 349, 353, 359, 367, 373, 379, 383, 389, 397, 401, 409, 419, 421, 431, 433, 439, 443, 449, 457, 461, 463, 467, 479, 487, 491, 499]\n",
      "enter length of series:10\n",
      "[0, 1, 1, 2, 3, 5, 8, 13, 21, 34, 55, 89]\n",
      "enter number:274385\n",
      "29\n"
     ]
    }
   ],
   "source": [
    "class Myclass:\n",
    "    \n",
    "    def even_odd(self, N):\n",
    "        self.N = N\n",
    "        #N = int(input('enter number:'))\n",
    "        if N%2==0:\n",
    "            print(\"number is even\")\n",
    "        else:\n",
    "            print(\"number is odd\")\n",
    "            \n",
    "    def LargestNumber(self):\n",
    "        l = []\n",
    "        while len(l)<3:\n",
    "            N = int(input('enter number:'))\n",
    "            l.append(N)\n",
    "            max_num = max(l)\n",
    "        print(max_num)\n",
    "        \n",
    "    def PrimeNumber(self):\n",
    "        list1 =[]\n",
    "        for X in range(200, 501):\n",
    "            for i in range(2,200):\n",
    "                if X%i==0:\n",
    "                    prime= False\n",
    "                    break\n",
    "                else:\n",
    "                    prime= True\n",
    "            if prime == True:\n",
    "                list1.append(X)\n",
    "        print(list1)\n",
    "    \n",
    "    def Fibonacci_Series(self, A):\n",
    "        ser=[]\n",
    "        n1 = 0\n",
    "        n2 = 1\n",
    "        count = 0\n",
    "        ser.append(n1)\n",
    "        ser.append(n2)\n",
    "        if (A<=0) or (A==1):\n",
    "            print()\n",
    "        else:\n",
    "            while count<A:\n",
    "                nth = n1 + n2\n",
    "                n1=n2\n",
    "                n2=nth\n",
    "                ser.append(nth)\n",
    "                count+=1\n",
    "        print(ser)\n",
    "    \n",
    "    def Sum_of_digits(self, N):\n",
    "        total = 0\n",
    "        while N>0:\n",
    "            digit = N%10\n",
    "            total += digit\n",
    "            N = N//10\n",
    "        print(total)\n",
    "        \n",
    "        \n",
    "                \n",
    "                                \n",
    "C1 = Myclass()\n",
    "C1.even_odd(N = int(input('Enter number:')))\n",
    "C1.LargestNumber()\n",
    "C1.PrimeNumber()\n",
    "C1.Fibonacci_Series(A = int(input('enter length of series:')))\n",
    "C1.Sum_of_digits(N=int(input('enter number:')))            \n",
    "        "
   ]
  },
  {
   "cell_type": "code",
   "execution_count": null,
   "id": "f3144819",
   "metadata": {},
   "outputs": [],
   "source": []
  },
  {
   "cell_type": "code",
   "execution_count": null,
   "id": "2967ed8f",
   "metadata": {},
   "outputs": [],
   "source": []
  }
 ],
 "metadata": {
  "kernelspec": {
   "display_name": "Python 3",
   "language": "python",
   "name": "python3"
  },
  "language_info": {
   "codemirror_mode": {
    "name": "ipython",
    "version": 3
   },
   "file_extension": ".py",
   "mimetype": "text/x-python",
   "name": "python",
   "nbconvert_exporter": "python",
   "pygments_lexer": "ipython3",
   "version": "3.8.8"
  }
 },
 "nbformat": 4,
 "nbformat_minor": 5
}
