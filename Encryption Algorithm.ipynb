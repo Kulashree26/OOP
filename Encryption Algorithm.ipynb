{
 "cells": [
  {
   "cell_type": "code",
   "execution_count": 19,
   "id": "ab2e5d12",
   "metadata": {},
   "outputs": [
    {
     "name": "stdout",
     "output_type": "stream",
     "text": [
      "enter:A\n"
     ]
    },
    {
     "data": {
      "text/plain": [
       "1"
      ]
     },
     "execution_count": 19,
     "metadata": {},
     "output_type": "execute_result"
    }
   ],
   "source": [
    "class Encryption:\n",
    "    def get_data(self, string):\n",
    "        self.string = string\n",
    "        return string\n",
    "         \n",
    "    def implement(self, string):\n",
    "        if len(string)==1:\n",
    "            value = ord(string)-64\n",
    "        else:\n",
    "            value = 26*(ord(string[0])-64)+ord(string[1])-64\n",
    "        return value\n",
    "        \n",
    "    def display(self,string, value):\n",
    "        self.string = string\n",
    "        self.value = value\n",
    "        return self.value\n",
    "        \n",
    "            \n",
    "ob = Encryption()\n",
    "string = ob.get_data(string = input('enter:'))\n",
    "value = ob.implement(string)\n",
    "ob.display(string, value)"
   ]
  },
  {
   "cell_type": "code",
   "execution_count": 20,
   "id": "5ed7d252",
   "metadata": {},
   "outputs": [
    {
     "name": "stdout",
     "output_type": "stream",
     "text": [
      "enter:AA\n"
     ]
    },
    {
     "data": {
      "text/plain": [
       "27"
      ]
     },
     "execution_count": 20,
     "metadata": {},
     "output_type": "execute_result"
    }
   ],
   "source": [
    "ob = Encryption()\n",
    "string = ob.get_data(string = input('enter:'))\n",
    "value = ob.implement(string)\n",
    "ob.display(string, value)"
   ]
  },
  {
   "cell_type": "code",
   "execution_count": 21,
   "id": "ec2ac1fd",
   "metadata": {},
   "outputs": [
    {
     "name": "stdout",
     "output_type": "stream",
     "text": [
      "enter:ZY\n"
     ]
    },
    {
     "data": {
      "text/plain": [
       "701"
      ]
     },
     "execution_count": 21,
     "metadata": {},
     "output_type": "execute_result"
    }
   ],
   "source": [
    "ob = Encryption()\n",
    "string = ob.get_data(string = input('enter:'))\n",
    "value = ob.implement(string)\n",
    "ob.display(string, value)"
   ]
  },
  {
   "cell_type": "code",
   "execution_count": null,
   "id": "d7a2f8b6",
   "metadata": {},
   "outputs": [],
   "source": []
  }
 ],
 "metadata": {
  "kernelspec": {
   "display_name": "Python 3",
   "language": "python",
   "name": "python3"
  }
 },
 "nbformat": 4,
 "nbformat_minor": 5
}
