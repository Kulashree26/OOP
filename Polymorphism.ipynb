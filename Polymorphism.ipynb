{
 "cells": [
  {
   "cell_type": "markdown",
   "id": "366669fa",
   "metadata": {},
   "source": [
    "# method overloading"
   ]
  },
  {
   "cell_type": "code",
   "execution_count": 5,
   "id": "38b5168e",
   "metadata": {},
   "outputs": [
    {
     "name": "stdout",
     "output_type": "stream",
     "text": [
      "Perimeter of Square: 20\n",
      "Perimeter of Rectangle: 10\n"
     ]
    }
   ],
   "source": [
    "class square:\n",
    "    def Perimeter(self, a):\n",
    "        self.a = a\n",
    "        perimeter = 4*a\n",
    "        print('Perimeter of Square:', perimeter)\n",
    "        \n",
    "class rectangle:\n",
    "    def Perimeter(self, l, b):\n",
    "        self.l = l\n",
    "        self.b = b\n",
    "        perimeter = 2*(l+b)\n",
    "        print('Perimeter of Rectangle:', perimeter)\n",
    "        \n",
    "S = square()\n",
    "S.Perimeter(5)\n",
    "\n",
    "R = rectangle()\n",
    "R.Perimeter(2,3)\n",
    "\n",
    "            "
   ]
  },
  {
   "cell_type": "markdown",
   "id": "848a5f48",
   "metadata": {},
   "source": [
    "# operator overloading  for operators +, *, <="
   ]
  },
  {
   "cell_type": "code",
   "execution_count": 10,
   "id": "693473c5",
   "metadata": {},
   "outputs": [
    {
     "name": "stdout",
     "output_type": "stream",
     "text": [
      "addition: (3, 5)\n",
      "multiplication: (2, 6)\n"
     ]
    }
   ],
   "source": [
    "class operator1:\n",
    "    def __init__(self, a, b):\n",
    "        self.a = a\n",
    "        self.b = b\n",
    "        \n",
    "    def __add__(self, other):\n",
    "        return self.a + other.a , self.b + other.b\n",
    "    \n",
    "    def __mul__(self, other):\n",
    "        return self.a*other.a , self.b*other.b\n",
    "    \n",
    "    \n",
    "ob1 = operator(1,2)\n",
    "ob2 = operator(2,3)\n",
    "addition = ob1+ob2\n",
    "multiplication = ob1*ob2\n",
    "compare \n",
    "print('addition:', addition)\n",
    "print('multiplication:', multiplication)\n",
    "    "
   ]
  },
  {
   "cell_type": "code",
   "execution_count": 12,
   "id": "6bc56ab8",
   "metadata": {},
   "outputs": [
    {
     "name": "stdout",
     "output_type": "stream",
     "text": [
      "enter no.:12\n",
      "enter no.:9\n",
      "ob1 is greater than ob2\n"
     ]
    }
   ],
   "source": [
    "class operator2:\n",
    "    def __init__(self, N):\n",
    "        self.N = N\n",
    "        \n",
    "    def __le__(self, other):\n",
    "            if self.N <= other.N:\n",
    "                return True\n",
    "            else:\n",
    "                return False\n",
    "            \n",
    "ob1 = operator2(N=int(input('enter no.:')))\n",
    "ob2 = operator2(N=int(input('enter no.:')))\n",
    "if ob1<=ob2 :\n",
    "    print('ob1 is less than ob2')\n",
    "else:\n",
    "    print('ob1 is greater than ob2')\n"
   ]
  },
  {
   "cell_type": "code",
   "execution_count": 13,
   "id": "7d70c4b2",
   "metadata": {},
   "outputs": [
    {
     "name": "stdout",
     "output_type": "stream",
     "text": [
      "enter no.:8\n",
      "enter no.:13\n",
      "ob1 is less than ob2\n"
     ]
    }
   ],
   "source": [
    "ob1 = operator2(N=int(input('enter no.:')))\n",
    "ob2 = operator2(N=int(input('enter no.:')))\n",
    "if ob1<=ob2 :\n",
    "    print('ob1 is less than ob2')\n",
    "else:\n",
    "    print('ob1 is greater than ob2')"
   ]
  },
  {
   "cell_type": "code",
   "execution_count": null,
   "id": "996ce7cb",
   "metadata": {},
   "outputs": [],
   "source": []
  }
 ],
 "metadata": {
  "kernelspec": {
   "display_name": "Python 3",
   "language": "python",
   "name": "python3"
  },
  "language_info": {
   "codemirror_mode": {
    "name": "ipython",
    "version": 3
   },
   "file_extension": ".py",
   "mimetype": "text/x-python",
   "name": "python",
   "nbconvert_exporter": "python",
   "pygments_lexer": "ipython3",
   "version": "3.8.8"
  }
 },
 "nbformat": 4,
 "nbformat_minor": 5
}
