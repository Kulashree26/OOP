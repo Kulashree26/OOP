{
 "cells": [
  {
   "cell_type": "markdown",
   "id": "64e9f830",
   "metadata": {},
   "source": [
    "# Single Inheritance\n",
    "\n",
    "    "
   ]
  },
  {
   "cell_type": "code",
   "execution_count": 14,
   "id": "0b7561de",
   "metadata": {},
   "outputs": [
    {
     "name": "stdout",
     "output_type": "stream",
     "text": [
      "My name is Kulashree\n"
     ]
    }
   ],
   "source": [
    "class Parent:\n",
    "    def fun1(self):\n",
    "        print('My name is', end=' ')\n",
    "        \n",
    "class Child(Parent):\n",
    "    def fun2(self, name):\n",
    "        self.name = name\n",
    "        print(name)\n",
    "        \n",
    "ob = Child()\n",
    "ob.fun1()\n",
    "ob.fun2('Kulashree')\n",
    "        \n",
    "    \n",
    "        "
   ]
  },
  {
   "cell_type": "markdown",
   "id": "486022c1",
   "metadata": {},
   "source": [
    "# Multiple Inheritance"
   ]
  },
  {
   "cell_type": "code",
   "execution_count": 17,
   "id": "f3152bc7",
   "metadata": {},
   "outputs": [
    {
     "name": "stdout",
     "output_type": "stream",
     "text": [
      "My name is Kulashree More\n"
     ]
    }
   ],
   "source": [
    "class Parent1:\n",
    "    def fun1(self):\n",
    "        print('My name is', end=' ')\n",
    "        \n",
    "class Parent2:\n",
    "    def fun2(self, first_name):\n",
    "        self.fname = first_name\n",
    "        print(first_name, end=' ')\n",
    "        \n",
    "class Child(Parent1, Parent2):\n",
    "    def fun3(self, last_name):\n",
    "        self.lname = last_name\n",
    "        print(last_name)\n",
    "        \n",
    "ob = Child()\n",
    "ob.fun1()\n",
    "ob.fun2('Kulashree')\n",
    "ob.fun3('More')\n",
    "    "
   ]
  },
  {
   "cell_type": "markdown",
   "id": "c3fe9f55",
   "metadata": {},
   "source": [
    "# Multilevel Inheritance"
   ]
  },
  {
   "cell_type": "code",
   "execution_count": 18,
   "id": "dae00731",
   "metadata": {},
   "outputs": [
    {
     "name": "stdout",
     "output_type": "stream",
     "text": [
      "My name is Kulashree More\n"
     ]
    }
   ],
   "source": [
    "class Parent:\n",
    "    def fun1(self):\n",
    "        print('My name is', end=' ')\n",
    "        \n",
    "class Child1(Parent):\n",
    "    def fun2(self, first_name):\n",
    "        self.fname = first_name\n",
    "        print(first_name, end=' ')\n",
    "        \n",
    "class Child2(Class1):\n",
    "    def fun3(self, last_name):\n",
    "        self.lname = last_name\n",
    "        print(last_name)\n",
    "        \n",
    "ob = Child2()\n",
    "ob.fun1()\n",
    "ob.fun2('Kulashree')\n",
    "ob.fun3('More')"
   ]
  },
  {
   "cell_type": "markdown",
   "id": "94992898",
   "metadata": {},
   "source": [
    "# Hierarchical Inheritance"
   ]
  },
  {
   "cell_type": "code",
   "execution_count": 20,
   "id": "b4d07849",
   "metadata": {},
   "outputs": [
    {
     "name": "stdout",
     "output_type": "stream",
     "text": [
      "My name is Kulashree More\n"
     ]
    }
   ],
   "source": [
    "class Parent:\n",
    "    def fun1(self):\n",
    "        print('My name is', end=' ')\n",
    "        \n",
    "class Child1(Parent):\n",
    "    def fun2(self, first_name):\n",
    "        self.fname = first_name\n",
    "        print(first_name, end=' ')\n",
    "        \n",
    "class Child2(Parent):\n",
    "    def fun3(self, last_name):\n",
    "        self.lname = last_name\n",
    "        print(last_name)\n",
    "        \n",
    "ob = Class1()\n",
    "ob1 = Class2()\n",
    "ob.fun1()\n",
    "ob.fun2('Kulashree')\n",
    "ob1.fun3('More')"
   ]
  },
  {
   "cell_type": "markdown",
   "id": "646e8715",
   "metadata": {},
   "source": [
    "# Hybrid Inheritance"
   ]
  },
  {
   "cell_type": "code",
   "execution_count": 24,
   "id": "d2e8fb8f",
   "metadata": {},
   "outputs": [
    {
     "name": "stdout",
     "output_type": "stream",
     "text": [
      "My name is Kulashree Rakesh More\n"
     ]
    }
   ],
   "source": [
    "class Parent1:\n",
    "    def fun1(self):\n",
    "        print('My name is', end=' ')\n",
    "        \n",
    "class Parent2:\n",
    "    def fun2(self, first_name):\n",
    "        self.fname = first_name\n",
    "        print(first_name, end=' ')\n",
    "        \n",
    "class Child1(Parent1):\n",
    "    def fun3(self, middle_name):\n",
    "        self.m_name = middle_name\n",
    "        print(middle_name, end=' ')\n",
    "        \n",
    "class Child2(Parent2, Child1):\n",
    "    def fun4(self, last_name):\n",
    "        self.lname = last_name\n",
    "        print(last_name)\n",
    "        \n",
    "ob = Child2()\n",
    "ob.fun1()\n",
    "ob.fun2('Kulashree')\n",
    "ob.fun3('Rakesh')\n",
    "ob.fun4('More')\n",
    "\n",
    "        "
   ]
  },
  {
   "cell_type": "markdown",
   "id": "3f084a1b",
   "metadata": {},
   "source": [
    "# Super() function"
   ]
  },
  {
   "cell_type": "code",
   "execution_count": 66,
   "id": "45d9cab8",
   "metadata": {},
   "outputs": [
    {
     "name": "stdout",
     "output_type": "stream",
     "text": [
      "ans: 4\n"
     ]
    }
   ],
   "source": [
    "class Parent:\n",
    "    def fun1(self,a,b):\n",
    "        self.a = a\n",
    "        self.b = b\n",
    "        self.d = a+b\n",
    "\n",
    "        \n",
    "class Child(Parent):\n",
    "    def fun2(self,a,b,c):\n",
    "        self.c = c\n",
    "        super().fun1(a,b)\n",
    "        print('ans:', self.d-c)\n",
    "        \n",
    "ob = Child()\n",
    "ob.fun2(2,3,1)\n",
    "    \n",
    "        "
   ]
  },
  {
   "cell_type": "markdown",
   "id": "23be59e8",
   "metadata": {},
   "source": [
    "# Method Overriding"
   ]
  },
  {
   "cell_type": "code",
   "execution_count": 69,
   "id": "8f0d8bde",
   "metadata": {},
   "outputs": [
    {
     "name": "stdout",
     "output_type": "stream",
     "text": [
      "I am Kulashree More\n"
     ]
    }
   ],
   "source": [
    "class Parent:\n",
    "    def fun1(self):\n",
    "        print('I am Kulashree', end=' ')\n",
    "        \n",
    "class Child(Parent):\n",
    "    def fun1(self):\n",
    "        print('I am Kulashree More')\n",
    "        \n",
    "ob = Child()\n",
    "ob.fun1()"
   ]
  },
  {
   "cell_type": "code",
   "execution_count": null,
   "id": "fc6c69e3",
   "metadata": {},
   "outputs": [],
   "source": []
  }
 ],
 "metadata": {
  "kernelspec": {
   "display_name": "Python 3",
   "language": "python",
   "name": "python3"
  },
  "language_info": {
   "codemirror_mode": {
    "name": "ipython",
    "version": 3
   },
   "file_extension": ".py",
   "mimetype": "text/x-python",
   "name": "python",
   "nbconvert_exporter": "python",
   "pygments_lexer": "ipython3",
   "version": "3.8.8"
  }
 },
 "nbformat": 4,
 "nbformat_minor": 5
}
