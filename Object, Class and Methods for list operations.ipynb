{
 "cells": [
  {
   "cell_type": "code",
   "execution_count": 10,
   "id": "30644a04",
   "metadata": {},
   "outputs": [],
   "source": [
    "class List_operations:\n",
    "\n",
    "    def add_item(self,list1,n):\n",
    "        count = 0\n",
    "        while count<n:\n",
    "            l = input('enter element:')\n",
    "            self.n = n\n",
    "            self.l = l\n",
    "            self.list1 = list1\n",
    "            list1.append(l)\n",
    "            count+=1\n",
    "        print(list1)\n",
    "    \n",
    "    def remove_item(self,list1, item):\n",
    "        self.item = item\n",
    "        self.list1 = list1\n",
    "        list1.remove(item)\n",
    "        print(list1)\n",
    "    \n",
    "    def delete(self):\n",
    "        list1.clear()\n",
    "        print(list1)       "
   ]
  },
  {
   "cell_type": "code",
   "execution_count": 17,
   "id": "bfc5e967",
   "metadata": {},
   "outputs": [
    {
     "name": "stdout",
     "output_type": "stream",
     "text": [
      "select command y/n:y\n",
      "select option (1/2/3):1\n",
      "how many no.s do you want to add:4\n",
      "enter element:1\n",
      "enter element:2\n",
      "enter element:3\n",
      "enter element:4\n",
      "['1', '2', '3', '4']\n",
      "select command y/n:y\n",
      "select option (1/2/3):2\n",
      "enter value:3\n",
      "['1', '2', '4']\n",
      "select command y/n:y\n",
      "select option (1/2/3):3\n",
      "[]\n",
      "select command y/n:n\n",
      "Done\n",
      "None\n"
     ]
    }
   ],
   "source": [
    "c2= List_operations()\n",
    "def operation_on_list():\n",
    "    while True:\n",
    "        cmd = input('select command y/n:')\n",
    "        if cmd == 'n':\n",
    "            print('Done')\n",
    "            break\n",
    "        elif cmd == 'y':\n",
    "            option = input('select option (1/2/3):')\n",
    "            if option == '1':\n",
    "                c2.add_item(list1, n = int(input('how many no.s do you want to add:')))\n",
    "            elif option == '2':\n",
    "                c2.remove_item(list1, item=input('enter value:'))    \n",
    "            elif option == '3':\n",
    "                c2.delete()\n",
    "print(operation_on_list())\n"
   ]
  },
  {
   "cell_type": "code",
   "execution_count": null,
   "id": "937f7f84",
   "metadata": {},
   "outputs": [],
   "source": []
  }
 ],
 "metadata": {
  "kernelspec": {
   "display_name": "Python 3",
   "language": "python",
   "name": "python3"
  },
  "language_info": {
   "codemirror_mode": {
    "name": "ipython",
    "version": 3
   },
   "file_extension": ".py",
   "mimetype": "text/x-python",
   "name": "python",
   "nbconvert_exporter": "python",
   "pygments_lexer": "ipython3",
   "version": "3.8.8"
  }
 },
 "nbformat": 4,
 "nbformat_minor": 5
}
